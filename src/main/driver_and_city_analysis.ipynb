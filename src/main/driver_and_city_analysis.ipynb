%matplotlib inline
# Dependencies and Setup
import matplotlib.pyplot as plt
import pandas as pd
import numpy as np

# File to Load (Remember to change these)
city_data_to_load = "data/city_data.csv"
ride_data_to_load = "data/ride_data.csv"

# Read the City and Ride Data
city_data = pd.read_csv(city_data_to_load)
ride_data = pd.read_csv(ride_data_to_load)

# Combine the data into a single dataset
combined_driver_and_city_data = pd.merge(city_data, ride_data, on = "city", how = "inner")

# Display the data table for preview
combined_driver_and_city_data = combined_driver_and_city_data.drop_duplicates(subset = ["city"])
combined_driver_and_city_data
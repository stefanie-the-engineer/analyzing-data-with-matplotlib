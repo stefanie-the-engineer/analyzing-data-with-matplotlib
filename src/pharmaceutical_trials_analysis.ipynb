# Dependencies and Setup
%matplotlib inline
import matplotlib.pyplot as plt
import pandas as pd
import numpy as np
import warnings

# Hide warning messages in notebook
warnings.filterwarnings('ignore')

# File to load
mouse_drug_data_to_load = "data/mouse_drug_data.csv"
clinical_trial_data_to_load = "data/clinicaltrial_data.csv"

# Read the Mouse and Drug Data and the Clinical Trial Data


# Combine the data into a single data set


# Display the data table for preview


# Tumor response to treatment
# Store the mean tumor volume data grouped by drug and timepoint 

# Convert to Data Frame

# Preview Data Frame

# Minor data munging to reformat the Data Frames

# Preview that reformatting worked

# Generate the plot (with error bars)

# Save the figure

# Show the Figure
plt.show()

# Metastatic resonse to treatment
# Store the mean met. Site data grouped by drug and timepoint 

# Convert to Data Frame

# Preview Data Frame

# Store the standard error associated with met. Sites grouped by drug and timepoint 

# Convert to Data Frame

# Preview Data Frame

# Minor data munging to re-format the Data Frames

# Preview that reformatting worked

# Generate the plot (with error bars)

# Save the figure

# Show the figure

# Survival rates
# Store the count of mice grouped by drug and timepoint (W can pass any metric)

# Convert to Data Frame

# Preview Data Frame

# Minor data munging to re-format the Data Frames

# Preview the Data Frame

# Generate the Plot (Accounting for percentages)

# Save the Figure

# Show the Figure
plt.show()

# Summary bar graph
# Calculate the percent changes for each drug

# Display the data to confirm

# Store all relevant percent changes into a Tuple

# Splice the data between passing and failing drugs

# Orient widths, add labels, tick marks

# Use functions to label the percentages of changes

# Call functions to implement the function calls

# Save the Figure

# Show the Figure
fig.show()